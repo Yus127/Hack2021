{
  "nbformat": 4,
  "nbformat_minor": 0,
  "metadata": {
    "colab": {
      "name": "Intento1Hack.ipynb",
      "provenance": [],
      "collapsed_sections": [],
      "toc_visible": true
    },
    "kernelspec": {
      "name": "python3",
      "display_name": "Python 3"
    },
    "language_info": {
      "name": "python"
    }
  },
  "cells": [
    {
      "cell_type": "markdown",
      "metadata": {
        "id": "J0a8E7-fg4I8"
      },
      "source": [
        "# Actividad Analítica 2"
      ]
    },
    {
      "cell_type": "markdown",
      "metadata": {
        "id": "KaJfDoyYAOAD"
      },
      "source": [
        "**Equipo Chiles en Nogada:**\n"
      ]
    },
    {
      "cell_type": "code",
      "metadata": {
        "colab": {
          "base_uri": "https://localhost:8080/",
          "height": 241
        },
        "id": "Y_zWON5jfxhb",
        "outputId": "d7dc594c-665c-4972-ac56-ef4ddbe71809"
      },
      "source": [
        "from google.colab import drive\n",
        "import pandas as pd\n",
        "import matplotlib.pyplot as plt\n",
        "import seaborn as sas\n",
        "import numpy as np\n",
        "%matplotlib inline\n",
        "from sklearn.model_selection import train_test_split\n",
        "from sklearn.preprocessing import StandardScaler\n",
        "from sklearn.linear_model import LinearRegression\n",
        "from sklearn.metrics import mean_squared_error, r2_score\n",
        "\n",
        "drive.mount('/content/drive')\n",
        "data = pd.read_csv(\"/content/drive/MyDrive/HACKMX2021/tardaMucho.csv\")\n",
        "#data.cnt = data.cnt / data.cnt.max()\n",
        "\n",
        "data.head(n=5)"
      ],
      "execution_count": 72,
      "outputs": [
        {
          "output_type": "stream",
          "text": [
            "Drive already mounted at /content/drive; to attempt to forcibly remount, call drive.mount(\"/content/drive\", force_remount=True).\n"
          ],
          "name": "stdout"
        },
        {
          "output_type": "execute_result",
          "data": {
            "text/html": [
              "<div>\n",
              "<style scoped>\n",
              "    .dataframe tbody tr th:only-of-type {\n",
              "        vertical-align: middle;\n",
              "    }\n",
              "\n",
              "    .dataframe tbody tr th {\n",
              "        vertical-align: top;\n",
              "    }\n",
              "\n",
              "    .dataframe thead th {\n",
              "        text-align: right;\n",
              "    }\n",
              "</style>\n",
              "<table border=\"1\" class=\"dataframe\">\n",
              "  <thead>\n",
              "    <tr style=\"text-align: right;\">\n",
              "      <th></th>\n",
              "      <th>step</th>\n",
              "      <th>type</th>\n",
              "      <th>amount</th>\n",
              "      <th>nameOrig</th>\n",
              "      <th>oldbalanceOrg</th>\n",
              "      <th>newbalanceOrig</th>\n",
              "      <th>nameDest</th>\n",
              "      <th>oldbalanceDest</th>\n",
              "      <th>newbalanceDest</th>\n",
              "      <th>isFraud</th>\n",
              "      <th>isFlaggedFraud</th>\n",
              "    </tr>\n",
              "  </thead>\n",
              "  <tbody>\n",
              "    <tr>\n",
              "      <th>0</th>\n",
              "      <td>1</td>\n",
              "      <td>PAYMENT</td>\n",
              "      <td>9839.64</td>\n",
              "      <td>C1231006815</td>\n",
              "      <td>170136.0</td>\n",
              "      <td>160296.36</td>\n",
              "      <td>M1979787155</td>\n",
              "      <td>0.0</td>\n",
              "      <td>0.0</td>\n",
              "      <td>0</td>\n",
              "      <td>0</td>\n",
              "    </tr>\n",
              "    <tr>\n",
              "      <th>1</th>\n",
              "      <td>1</td>\n",
              "      <td>PAYMENT</td>\n",
              "      <td>1864.28</td>\n",
              "      <td>C1666544295</td>\n",
              "      <td>21249.0</td>\n",
              "      <td>19384.72</td>\n",
              "      <td>M2044282225</td>\n",
              "      <td>0.0</td>\n",
              "      <td>0.0</td>\n",
              "      <td>0</td>\n",
              "      <td>0</td>\n",
              "    </tr>\n",
              "    <tr>\n",
              "      <th>2</th>\n",
              "      <td>1</td>\n",
              "      <td>TRANSFER</td>\n",
              "      <td>181.00</td>\n",
              "      <td>C1305486145</td>\n",
              "      <td>181.0</td>\n",
              "      <td>0.00</td>\n",
              "      <td>C553264065</td>\n",
              "      <td>0.0</td>\n",
              "      <td>0.0</td>\n",
              "      <td>1</td>\n",
              "      <td>0</td>\n",
              "    </tr>\n",
              "    <tr>\n",
              "      <th>3</th>\n",
              "      <td>1</td>\n",
              "      <td>CASH_OUT</td>\n",
              "      <td>181.00</td>\n",
              "      <td>C840083671</td>\n",
              "      <td>181.0</td>\n",
              "      <td>0.00</td>\n",
              "      <td>C38997010</td>\n",
              "      <td>21182.0</td>\n",
              "      <td>0.0</td>\n",
              "      <td>1</td>\n",
              "      <td>0</td>\n",
              "    </tr>\n",
              "    <tr>\n",
              "      <th>4</th>\n",
              "      <td>1</td>\n",
              "      <td>PAYMENT</td>\n",
              "      <td>11668.14</td>\n",
              "      <td>C2048537720</td>\n",
              "      <td>41554.0</td>\n",
              "      <td>29885.86</td>\n",
              "      <td>M1230701703</td>\n",
              "      <td>0.0</td>\n",
              "      <td>0.0</td>\n",
              "      <td>0</td>\n",
              "      <td>0</td>\n",
              "    </tr>\n",
              "  </tbody>\n",
              "</table>\n",
              "</div>"
            ],
            "text/plain": [
              "   step      type    amount  ... newbalanceDest  isFraud  isFlaggedFraud\n",
              "0     1   PAYMENT   9839.64  ...            0.0        0               0\n",
              "1     1   PAYMENT   1864.28  ...            0.0        0               0\n",
              "2     1  TRANSFER    181.00  ...            0.0        1               0\n",
              "3     1  CASH_OUT    181.00  ...            0.0        1               0\n",
              "4     1   PAYMENT  11668.14  ...            0.0        0               0\n",
              "\n",
              "[5 rows x 11 columns]"
            ]
          },
          "metadata": {
            "tags": []
          },
          "execution_count": 72
        }
      ]
    },
    {
      "cell_type": "markdown",
      "metadata": {
        "id": "nNkWe9v1hXJ8"
      },
      "source": [
        "# Estadística Descriptiva"
      ]
    },
    {
      "cell_type": "markdown",
      "metadata": {
        "id": "4cKoZ9YviqF0"
      },
      "source": [
        "Número de renglones"
      ]
    },
    {
      "cell_type": "code",
      "metadata": {
        "id": "cBLyoFvti76p",
        "colab": {
          "base_uri": "https://localhost:8080/"
        },
        "outputId": "2a619c41-941d-4c33-b337-1bd9dcaa9cd8"
      },
      "source": [
        "len(data)"
      ],
      "execution_count": 73,
      "outputs": [
        {
          "output_type": "execute_result",
          "data": {
            "text/plain": [
              "2707"
            ]
          },
          "metadata": {
            "tags": []
          },
          "execution_count": 73
        }
      ]
    },
    {
      "cell_type": "markdown",
      "metadata": {
        "id": "vqdwxAq0i_ZU"
      },
      "source": [
        "Número de columnas"
      ]
    },
    {
      "cell_type": "code",
      "metadata": {
        "id": "EgMDuvoQjCpM",
        "colab": {
          "base_uri": "https://localhost:8080/"
        },
        "outputId": "f4221bce-7f07-42ac-cee4-2fc8db1c69e9"
      },
      "source": [
        "len(data.columns)\n"
      ],
      "execution_count": 74,
      "outputs": [
        {
          "output_type": "execute_result",
          "data": {
            "text/plain": [
              "11"
            ]
          },
          "metadata": {
            "tags": []
          },
          "execution_count": 74
        }
      ]
    },
    {
      "cell_type": "markdown",
      "metadata": {
        "id": "_RYE69BpjUj1"
      },
      "source": [
        "Tabla resumen de las variables"
      ]
    },
    {
      "cell_type": "code",
      "metadata": {
        "id": "FrAGHgjwig9Z",
        "colab": {
          "base_uri": "https://localhost:8080/",
          "height": 297
        },
        "outputId": "69b48a89-2810-4b53-fab9-9b5b100da70d"
      },
      "source": [
        "data.describe()"
      ],
      "execution_count": 75,
      "outputs": [
        {
          "output_type": "execute_result",
          "data": {
            "text/html": [
              "<div>\n",
              "<style scoped>\n",
              "    .dataframe tbody tr th:only-of-type {\n",
              "        vertical-align: middle;\n",
              "    }\n",
              "\n",
              "    .dataframe tbody tr th {\n",
              "        vertical-align: top;\n",
              "    }\n",
              "\n",
              "    .dataframe thead th {\n",
              "        text-align: right;\n",
              "    }\n",
              "</style>\n",
              "<table border=\"1\" class=\"dataframe\">\n",
              "  <thead>\n",
              "    <tr style=\"text-align: right;\">\n",
              "      <th></th>\n",
              "      <th>step</th>\n",
              "      <th>amount</th>\n",
              "      <th>oldbalanceOrg</th>\n",
              "      <th>newbalanceOrig</th>\n",
              "      <th>oldbalanceDest</th>\n",
              "      <th>newbalanceDest</th>\n",
              "      <th>isFraud</th>\n",
              "      <th>isFlaggedFraud</th>\n",
              "    </tr>\n",
              "  </thead>\n",
              "  <tbody>\n",
              "    <tr>\n",
              "      <th>count</th>\n",
              "      <td>2707.0</td>\n",
              "      <td>2.707000e+03</td>\n",
              "      <td>2.707000e+03</td>\n",
              "      <td>2.707000e+03</td>\n",
              "      <td>2.707000e+03</td>\n",
              "      <td>2.707000e+03</td>\n",
              "      <td>2707.000000</td>\n",
              "      <td>2707.0</td>\n",
              "    </tr>\n",
              "    <tr>\n",
              "      <th>mean</th>\n",
              "      <td>1.0</td>\n",
              "      <td>1.054388e+05</td>\n",
              "      <td>8.838826e+05</td>\n",
              "      <td>9.049670e+05</td>\n",
              "      <td>7.460561e+05</td>\n",
              "      <td>9.870833e+05</td>\n",
              "      <td>0.005911</td>\n",
              "      <td>0.0</td>\n",
              "    </tr>\n",
              "    <tr>\n",
              "      <th>std</th>\n",
              "      <td>0.0</td>\n",
              "      <td>2.437431e+05</td>\n",
              "      <td>1.990892e+06</td>\n",
              "      <td>2.035748e+06</td>\n",
              "      <td>2.253764e+06</td>\n",
              "      <td>2.917219e+06</td>\n",
              "      <td>0.076667</td>\n",
              "      <td>0.0</td>\n",
              "    </tr>\n",
              "    <tr>\n",
              "      <th>min</th>\n",
              "      <td>1.0</td>\n",
              "      <td>6.420000e+00</td>\n",
              "      <td>0.000000e+00</td>\n",
              "      <td>0.000000e+00</td>\n",
              "      <td>0.000000e+00</td>\n",
              "      <td>0.000000e+00</td>\n",
              "      <td>0.000000</td>\n",
              "      <td>0.0</td>\n",
              "    </tr>\n",
              "    <tr>\n",
              "      <th>25%</th>\n",
              "      <td>1.0</td>\n",
              "      <td>3.942805e+03</td>\n",
              "      <td>1.520000e+02</td>\n",
              "      <td>0.000000e+00</td>\n",
              "      <td>0.000000e+00</td>\n",
              "      <td>0.000000e+00</td>\n",
              "      <td>0.000000</td>\n",
              "      <td>0.0</td>\n",
              "    </tr>\n",
              "    <tr>\n",
              "      <th>50%</th>\n",
              "      <td>1.0</td>\n",
              "      <td>1.028648e+04</td>\n",
              "      <td>2.384500e+04</td>\n",
              "      <td>1.584128e+04</td>\n",
              "      <td>0.000000e+00</td>\n",
              "      <td>0.000000e+00</td>\n",
              "      <td>0.000000</td>\n",
              "      <td>0.0</td>\n",
              "    </tr>\n",
              "    <tr>\n",
              "      <th>75%</th>\n",
              "      <td>1.0</td>\n",
              "      <td>1.192169e+05</td>\n",
              "      <td>2.563311e+05</td>\n",
              "      <td>2.612977e+05</td>\n",
              "      <td>3.697303e+05</td>\n",
              "      <td>2.775150e+05</td>\n",
              "      <td>0.000000</td>\n",
              "      <td>0.0</td>\n",
              "    </tr>\n",
              "    <tr>\n",
              "      <th>max</th>\n",
              "      <td>1.0</td>\n",
              "      <td>3.776389e+06</td>\n",
              "      <td>1.010000e+07</td>\n",
              "      <td>1.020000e+07</td>\n",
              "      <td>1.950000e+07</td>\n",
              "      <td>1.920000e+07</td>\n",
              "      <td>1.000000</td>\n",
              "      <td>0.0</td>\n",
              "    </tr>\n",
              "  </tbody>\n",
              "</table>\n",
              "</div>"
            ],
            "text/plain": [
              "         step        amount  ...      isFraud  isFlaggedFraud\n",
              "count  2707.0  2.707000e+03  ...  2707.000000          2707.0\n",
              "mean      1.0  1.054388e+05  ...     0.005911             0.0\n",
              "std       0.0  2.437431e+05  ...     0.076667             0.0\n",
              "min       1.0  6.420000e+00  ...     0.000000             0.0\n",
              "25%       1.0  3.942805e+03  ...     0.000000             0.0\n",
              "50%       1.0  1.028648e+04  ...     0.000000             0.0\n",
              "75%       1.0  1.192169e+05  ...     0.000000             0.0\n",
              "max       1.0  3.776389e+06  ...     1.000000             0.0\n",
              "\n",
              "[8 rows x 8 columns]"
            ]
          },
          "metadata": {
            "tags": []
          },
          "execution_count": 75
        }
      ]
    },
    {
      "cell_type": "markdown",
      "metadata": {
        "id": "YiXPiGmx7Phg"
      },
      "source": [
        "¿Hay datos nulos?"
      ]
    },
    {
      "cell_type": "code",
      "metadata": {
        "colab": {
          "base_uri": "https://localhost:8080/"
        },
        "id": "qMtODFzm2z2-",
        "outputId": "f567dd88-a159-40e6-b983-a759a681ad3c"
      },
      "source": [
        "data.isnull().sum()"
      ],
      "execution_count": 76,
      "outputs": [
        {
          "output_type": "execute_result",
          "data": {
            "text/plain": [
              "step              0\n",
              "type              0\n",
              "amount            0\n",
              "nameOrig          0\n",
              "oldbalanceOrg     0\n",
              "newbalanceOrig    0\n",
              "nameDest          0\n",
              "oldbalanceDest    0\n",
              "newbalanceDest    0\n",
              "isFraud           0\n",
              "isFlaggedFraud    0\n",
              "dtype: int64"
            ]
          },
          "metadata": {
            "tags": []
          },
          "execution_count": 76
        }
      ]
    },
    {
      "cell_type": "markdown",
      "metadata": {
        "id": "s_gK6RwtHJE5"
      },
      "source": [
        "¿Hay datos duplicados?"
      ]
    },
    {
      "cell_type": "code",
      "metadata": {
        "colab": {
          "base_uri": "https://localhost:8080/"
        },
        "id": "uGf5StBh25Td",
        "outputId": "e37e6e93-1b71-472d-ca4e-f1573fcc9e4a"
      },
      "source": [
        "data.duplicated().any()"
      ],
      "execution_count": 77,
      "outputs": [
        {
          "output_type": "execute_result",
          "data": {
            "text/plain": [
              "False"
            ]
          },
          "metadata": {
            "tags": []
          },
          "execution_count": 77
        }
      ]
    },
    {
      "cell_type": "markdown",
      "metadata": {
        "id": "wQW1DzH5-3u3"
      },
      "source": [
        "Rangos de las variables:"
      ]
    },
    {
      "cell_type": "code",
      "metadata": {
        "id": "IZ3M_62H-7mW",
        "colab": {
          "base_uri": "https://localhost:8080/"
        },
        "outputId": "457e7105-2d26-477f-eee2-54c25b1b357d"
      },
      "source": [
        "#print(\"step \"+str(data[\"step\"].max() - data[\"step\"].min()))\n",
        "print(\"amount \"+str(data[\"amount\"].max() - data[\"amount\"].min()))\n",
        "print(\"oldbalanceOrg \"+str(data[\"oldbalanceOrg\"].max() - data[\"oldbalanceOrg\"].min()))\n",
        "print(\"newbalanceOrig \"+str(data[\"newbalanceOrig\"].max() - data[\"newbalanceOrig\"].min()))\n",
        "print(\"oldbalanceDest \"+str(data[\"oldbalanceDest\"].max() - data[\"oldbalanceDest\"].min()))\n",
        "print(\"newbalanceDest \"+str(data[\"newbalanceDest\"].max() - data[\"newbalanceDest\"].min()))\n",
        "print(\"isFraud \"+str(data[\"isFraud\"].max() - data[\"isFraud\"].min()))\n",
        "print(\"isFlaggedFraud \"+str(data[\"isFlaggedFraud\"].max() - data[\"isFlaggedFraud\"].min()))\n"
      ],
      "execution_count": 78,
      "outputs": [
        {
          "output_type": "stream",
          "text": [
            "amount 3776382.67\n",
            "oldbalanceOrg 10100000.0\n",
            "newbalanceOrig 10200000.0\n",
            "oldbalanceDest 19500000.0\n",
            "newbalanceDest 19200000.0\n",
            "isFraud 1\n",
            "isFlaggedFraud 0\n"
          ],
          "name": "stdout"
        }
      ]
    },
    {
      "cell_type": "markdown",
      "metadata": {
        "id": "jz1kYRtZjEow"
      },
      "source": [
        "Tipos de datos de las variables"
      ]
    },
    {
      "cell_type": "code",
      "metadata": {
        "id": "1C3V-u93jH5a",
        "colab": {
          "base_uri": "https://localhost:8080/"
        },
        "outputId": "537f2a78-8e34-4ead-d740-ec7b1476e9f5"
      },
      "source": [
        "data.dtypes"
      ],
      "execution_count": 79,
      "outputs": [
        {
          "output_type": "execute_result",
          "data": {
            "text/plain": [
              "step                int64\n",
              "type               object\n",
              "amount            float64\n",
              "nameOrig           object\n",
              "oldbalanceOrg     float64\n",
              "newbalanceOrig    float64\n",
              "nameDest           object\n",
              "oldbalanceDest    float64\n",
              "newbalanceDest    float64\n",
              "isFraud             int64\n",
              "isFlaggedFraud      int64\n",
              "dtype: object"
            ]
          },
          "metadata": {
            "tags": []
          },
          "execution_count": 79
        }
      ]
    },
    {
      "cell_type": "markdown",
      "metadata": {
        "id": "yjhkr7gB7j56"
      },
      "source": [
        "Medidas estadísiticas:"
      ]
    },
    {
      "cell_type": "code",
      "metadata": {
        "colab": {
          "base_uri": "https://localhost:8080/"
        },
        "id": "jFpUJR248JpZ",
        "outputId": "3fbffacd-e89a-4f9a-d0ee-4b49f9d2a3f0"
      },
      "source": [
        "print(\"Mean: \"+str(data[\"step\"].mean()))\n",
        "print(\"Median: \"+str(data[\"step\"].median()))\n",
        "print(\"Min: \"+str(data[\"step\"].min()))\n",
        "print(\"Max: \"+str(data[\"step\"].max()))\n",
        "print(\"Std: \"+str(data[\"step\"].std()))"
      ],
      "execution_count": 80,
      "outputs": [
        {
          "output_type": "stream",
          "text": [
            "Mean: 1.0\n",
            "Median: 1.0\n",
            "Min: 1\n",
            "Max: 1\n",
            "Std: 0.0\n"
          ],
          "name": "stdout"
        }
      ]
    },
    {
      "cell_type": "code",
      "metadata": {
        "colab": {
          "base_uri": "https://localhost:8080/"
        },
        "id": "ogXie5Qs8uEh",
        "outputId": "7cc1899f-632c-4046-de4c-64b73730ce93"
      },
      "source": [
        "print(\"Mean: \"+str(data[\"amount\"].mean()))\n",
        "print(\"Median: \"+str(data[\"amount\"].median()))\n",
        "print(\"Min: \"+str(data[\"amount\"].min()))\n",
        "print(\"Max: \"+str(data[\"amount\"].max()))\n",
        "print(\"Std: \"+str(data[\"amount\"].std()))"
      ],
      "execution_count": 81,
      "outputs": [
        {
          "output_type": "stream",
          "text": [
            "Mean: 105438.83390838574\n",
            "Median: 10286.48\n",
            "Min: 6.42\n",
            "Max: 3776389.09\n",
            "Std: 243743.10795895982\n"
          ],
          "name": "stdout"
        }
      ]
    },
    {
      "cell_type": "code",
      "metadata": {
        "id": "O0EyW-s-8xdR",
        "colab": {
          "base_uri": "https://localhost:8080/"
        },
        "outputId": "f65a4586-9fb9-4483-d0d1-3d90ec751109"
      },
      "source": [
        "print(\"Mean: \"+str(data[\"oldbalanceOrg\"].mean()))\n",
        "print(\"Median: \"+str(data[\"oldbalanceOrg\"].median()))\n",
        "print(\"Min: \"+str(data[\"oldbalanceOrg\"].min()))\n",
        "print(\"Max: \"+str(data[\"oldbalanceOrg\"].max()))\n",
        "print(\"Std: \"+str(data[\"oldbalanceOrg\"].std()))"
      ],
      "execution_count": 82,
      "outputs": [
        {
          "output_type": "stream",
          "text": [
            "Mean: 883882.6377281112\n",
            "Median: 23845.0\n",
            "Min: 0.0\n",
            "Max: 10100000.0\n",
            "Std: 1990892.239231992\n"
          ],
          "name": "stdout"
        }
      ]
    },
    {
      "cell_type": "code",
      "metadata": {
        "colab": {
          "base_uri": "https://localhost:8080/"
        },
        "id": "hTaK5-E980xx",
        "outputId": "9cffc6f8-d332-4995-8da2-00deb5077eb1"
      },
      "source": [
        "print(\"Mean: \"+str(data[\"newbalanceOrig\"].mean()))\n",
        "print(\"Median: \"+str(data[\"newbalanceOrig\"].median()))\n",
        "print(\"Min: \"+str(data[\"newbalanceOrig\"].min()))\n",
        "print(\"Max: \"+str(data[\"newbalanceOrig\"].max()))\n",
        "print(\"Std: \"+str(data[\"newbalanceOrig\"].std()))\n"
      ],
      "execution_count": 83,
      "outputs": [
        {
          "output_type": "stream",
          "text": [
            "Mean: 904967.0154636125\n",
            "Median: 15841.28\n",
            "Min: 0.0\n",
            "Max: 10200000.0\n",
            "Std: 2035747.8120190164\n"
          ],
          "name": "stdout"
        }
      ]
    },
    {
      "cell_type": "code",
      "metadata": {
        "colab": {
          "base_uri": "https://localhost:8080/"
        },
        "id": "6XKPU71183qc",
        "outputId": "d186dd67-0f87-47e0-8e32-c14e0368f242"
      },
      "source": [
        "print(\"Mean: \"+str(data[\"oldbalanceDest\"].mean()))\n",
        "print(\"Median: \"+str(data[\"oldbalanceDest\"].median()))\n",
        "print(\"Min: \"+str(data[\"oldbalanceDest\"].min()))\n",
        "print(\"Max: \"+str(data[\"oldbalanceDest\"].max()))\n",
        "print(\"Std: \"+str(data[\"oldbalanceDest\"].std()))"
      ],
      "execution_count": 84,
      "outputs": [
        {
          "output_type": "stream",
          "text": [
            "Mean: 746056.0718840039\n",
            "Median: 0.0\n",
            "Min: 0.0\n",
            "Max: 19500000.0\n",
            "Std: 2253764.001297617\n"
          ],
          "name": "stdout"
        }
      ]
    },
    {
      "cell_type": "code",
      "metadata": {
        "id": "6zMKzM1UhogT",
        "colab": {
          "base_uri": "https://localhost:8080/"
        },
        "outputId": "b30c3ff2-6360-49c0-bcd1-a3916fb3e7f9"
      },
      "source": [
        "print(\"Mean: \"+str(data[\"newbalanceDest\"].mean()))\n",
        "print(\"Median: \"+str(data[\"newbalanceDest\"].median()))\n",
        "print(\"Min: \"+str(data[\"newbalanceDest\"].min()))\n",
        "print(\"Max: \"+str(data[\"newbalanceDest\"].max()))\n",
        "print(\"Std: \"+str(data[\"newbalanceDest\"].std()))"
      ],
      "execution_count": 85,
      "outputs": [
        {
          "output_type": "stream",
          "text": [
            "Mean: 987083.3067417786\n",
            "Median: 0.0\n",
            "Min: 0.0\n",
            "Max: 19200000.0\n",
            "Std: 2917219.1243370683\n"
          ],
          "name": "stdout"
        }
      ]
    },
    {
      "cell_type": "code",
      "metadata": {
        "colab": {
          "base_uri": "https://localhost:8080/"
        },
        "id": "aP1q6j8ahunc",
        "outputId": "b8f5f1d7-5212-42ef-f601-7855f75922b4"
      },
      "source": [
        "print(\"Mean: \"+str(data[\"isFraud\"].mean()))\n",
        "print(\"Median: \"+str(data[\"isFraud\"].median()))\n",
        "print(\"Min: \"+str(data[\"isFraud\"].min()))\n",
        "print(\"Max: \"+str(data[\"isFraud\"].max()))\n",
        "print(\"Std: \"+str(data[\"isFraud\"].std()))"
      ],
      "execution_count": 86,
      "outputs": [
        {
          "output_type": "stream",
          "text": [
            "Mean: 0.005910602142593277\n",
            "Median: 0.0\n",
            "Min: 0\n",
            "Max: 1\n",
            "Std: 0.07666706119725039\n"
          ],
          "name": "stdout"
        }
      ]
    },
    {
      "cell_type": "code",
      "metadata": {
        "colab": {
          "base_uri": "https://localhost:8080/"
        },
        "id": "3XxifuOFhu6j",
        "outputId": "35c785f3-f304-438a-f05a-32c636bbf3bd"
      },
      "source": [
        "print(\"Mean: \"+str(data[\"isFlaggedFraud\"].mean()))\n",
        "print(\"Median: \"+str(data[\"isFlaggedFraud\"].median()))\n",
        "print(\"Min: \"+str(data[\"isFlaggedFraud\"].min()))\n",
        "print(\"Max: \"+str(data[\"isFlaggedFraud\"].max()))\n",
        "print(\"Std: \"+str(data[\"isFlaggedFraud\"].std()))"
      ],
      "execution_count": 87,
      "outputs": [
        {
          "output_type": "stream",
          "text": [
            "Mean: 0.0\n",
            "Median: 0.0\n",
            "Min: 0\n",
            "Max: 0\n",
            "Std: 0.0\n"
          ],
          "name": "stdout"
        }
      ]
    },
    {
      "cell_type": "markdown",
      "metadata": {
        "id": "ZJgOHnk1hiPq"
      },
      "source": [
        "# Gráficas"
      ]
    },
    {
      "cell_type": "code",
      "metadata": {
        "colab": {
          "base_uri": "https://localhost:8080/",
          "height": 297
        },
        "id": "rj7EjVSKl8Id",
        "outputId": "15ec95a7-a4e0-47a9-e2aa-43cd49d80695"
      },
      "source": [
        "sas.histplot(data=data, x=\"type\",  shrink=.8)\n"
      ],
      "execution_count": 88,
      "outputs": [
        {
          "output_type": "execute_result",
          "data": {
            "text/plain": [
              "<matplotlib.axes._subplots.AxesSubplot at 0x7fe723b1c090>"
            ]
          },
          "metadata": {
            "tags": []
          },
          "execution_count": 88
        },
        {
          "output_type": "display_data",
          "data": {
            "image/png": "[encoded data removed]",
            "text/plain": [
              "<Figure size 432x288 with 1 Axes>"
            ]
          },
          "metadata": {
            "tags": [],
            "needs_background": "light"
          }
        }
      ]
    },
    {
      "cell_type": "code",
      "metadata": {
        "colab": {
          "base_uri": "https://localhost:8080/",
          "height": 307
        },
        "id": "J8lyTBbGmYVw",
        "outputId": "1eb26b40-3c42-4b24-bf0c-b99a26a0a587"
      },
      "source": [
        "sas.histplot(data, x=\"isFraud\", y=\"amount\" )"
      ],
      "execution_count": 89,
      "outputs": [
        {
          "output_type": "execute_result",
          "data": {
            "text/plain": [
              "<matplotlib.axes._subplots.AxesSubplot at 0x7fe723af2cd0>"
            ]
          },
          "metadata": {
            "tags": []
          },
          "execution_count": 89
        },
        {
          "output_type": "display_data",
          "data": {
            "image/png": "[encoded data removed]",
            "text/plain": [
              "<Figure size 432x288 with 1 Axes>"
            ]
          },
          "metadata": {
            "tags": [],
            "needs_background": "light"
          }
        }
      ]
    },
    {
      "cell_type": "markdown",
      "metadata": {
        "id": "pB-eayzwnASW"
      },
      "source": [
        "OKAY, FALTAN MÁS, PERO NO SÉ QUE PONER"
      ]
    },
    {
      "cell_type": "markdown",
      "metadata": {
        "id": "DXQKEmzehase"
      },
      "source": [
        "# Heatmap"
      ]
    },
    {
      "cell_type": "code",
      "metadata": {
        "colab": {
          "base_uri": "https://localhost:8080/",
          "height": 624
        },
        "id": "KuhDjshTqj6f",
        "outputId": "84293d97-f69f-4fed-97ce-1e943b67f627"
      },
      "source": [
        "fig, ax = plt.subplots(nrows=1, ncols=1, figsize=(15,10))\n",
        "ax.set_title(\"Matriz de correlaciones\")\n",
        "filtro = data.columns != \"instant\"\n",
        "sas.heatmap(data[ data.columns[filtro]].corr(), vmin=-1, vmax=1, cmap=\"coolwarm\", annot=True)"
      ],
      "execution_count": 90,
      "outputs": [
        {
          "output_type": "execute_result",
          "data": {
            "text/plain": [
              "<matplotlib.axes._subplots.AxesSubplot at 0x7fe723a5eed0>"
            ]
          },
          "metadata": {
            "tags": []
          },
          "execution_count": 90
        },
        {
          "output_type": "display_data",
          "data": {
            "image/png": "[encoded data removed]",
            "text/plain": [
              "<Figure size 1080x720 with 2 Axes>"
            ]
          },
          "metadata": {
            "tags": [],
            "needs_background": "light"
          }
        }
      ]
    },
    {
      "cell_type": "markdown",
      "metadata": {
        "id": "VfU3cX95_x4E"
      },
      "source": [
        "Interpretación:\n",
        "El heatmap muestra que no existen correlaciones fuertes entre variables de interés. "
      ]
    },
    {
      "cell_type": "markdown",
      "metadata": {
        "id": "VxNfDHCChlUE"
      },
      "source": [
        "# Regresión lineal"
      ]
    },
    {
      "cell_type": "code",
      "metadata": {
        "colab": {
          "base_uri": "https://localhost:8080/"
        },
        "id": "2uilcReM1Mwx",
        "outputId": "26dbd284-b82d-407f-acfd-086f242c7b8c"
      },
      "source": [
        "temps = data.amount.unique()\n",
        "temps"
      ],
      "execution_count": 100,
      "outputs": [
        {
          "output_type": "execute_result",
          "data": {
            "text/plain": [
              "array([9839.64, 1864.28,  181.  , ..., 4541.85,  525.89,  353.62])"
            ]
          },
          "metadata": {
            "tags": []
          },
          "execution_count": 100
        }
      ]
    },
    {
      "cell_type": "code",
      "metadata": {
        "id": "rfi4XxF51C-A"
      },
      "source": [
        "matriz = []\n",
        "for tmp in temps:\n",
        "  same_tmp = data[data.amount == tmp].copy()\n",
        "  isFraud = same_tmp['isFraud']\n",
        "  total_dia = sum(isFraud)\n",
        "  matriz.append([tmp, total_dia])"
      ],
      "execution_count": 101,
      "outputs": []
    },
    {
      "cell_type": "code",
      "metadata": {
        "id": "HYa9KRl81zUZ"
      },
      "source": [
        "titulos = ['amount', 'isFraud']\n",
        "dataset = pd.DataFrame(data=matriz, columns=titulos)\n",
        "dataset.isFraud = dataset.isFraud / dataset.isFraud.max() # Normalización\n"
      ],
      "execution_count": 103,
      "outputs": []
    },
    {
      "cell_type": "code",
      "metadata": {
        "id": "q2rzKCgSBII2"
      },
      "source": [
        "X = np.array(dataset[\"amount\"]).reshape(-1,1)\n",
        "Y = dataset['isFraud']"
      ],
      "execution_count": 104,
      "outputs": []
    },
    {
      "cell_type": "code",
      "metadata": {
        "colab": {
          "base_uri": "https://localhost:8080/"
        },
        "id": "5equUhi50Sjy",
        "outputId": "1ce9251c-96f2-4484-b077-445ffb866d1e"
      },
      "source": [
        "regresion = LinearRegression(fit_intercept=True)\n",
        "regresion.fit(X, Y)"
      ],
      "execution_count": 105,
      "outputs": [
        {
          "output_type": "execute_result",
          "data": {
            "text/plain": [
              "LinearRegression(copy_X=True, fit_intercept=True, n_jobs=None, normalize=False)"
            ]
          },
          "metadata": {
            "tags": []
          },
          "execution_count": 105
        }
      ]
    },
    {
      "cell_type": "code",
      "metadata": {
        "id": "1PF2D6ZX0TJw"
      },
      "source": [
        "y_hat = regresion.predict(X)"
      ],
      "execution_count": 106,
      "outputs": []
    },
    {
      "cell_type": "code",
      "metadata": {
        "colab": {
          "base_uri": "https://localhost:8080/"
        },
        "id": "0C195Szd0V_v",
        "outputId": "82360d18-b6c4-43b2-bbc9-f58eb32c3f1c"
      },
      "source": [
        "error_ = mean_squared_error(Y, y_hat)\n",
        "error_"
      ],
      "execution_count": 107,
      "outputs": [
        {
          "output_type": "execute_result",
          "data": {
            "text/plain": [
              "0.0027675597214650875"
            ]
          },
          "metadata": {
            "tags": []
          },
          "execution_count": 107
        }
      ]
    },
    {
      "cell_type": "code",
      "metadata": {
        "colab": {
          "base_uri": "https://localhost:8080/",
          "height": 262
        },
        "id": "W9WHh6re0csc",
        "outputId": "d8864cda-49b8-4cb3-fab5-60d09b49aa64"
      },
      "source": [
        "plt.xlabel(\"isFraud\")\n",
        "plt.ylabel(\"amount\")\n",
        "plt.scatter(X, Y, color='black')\n",
        "plt.plot(X, y_hat, color='blue')\n",
        "plt.xticks(())\n",
        "plt.yticks(())\n",
        "plt.show()"
      ],
      "execution_count": 108,
      "outputs": [
        {
          "output_type": "display_data",
          "data": {
            "image/png": "[encoded data removed]",
            "text/plain": [
              "<Figure size 432x288 with 1 Axes>"
            ]
          },
          "metadata": {
            "tags": []
          }
        }
      ]
    },
    {
      "cell_type": "markdown",
      "metadata": {
        "id": "UCng8kSLJPlD"
      },
      "source": [
        "\n",
        "\n",
        "Intepretación: La regresión indica \n",
        "\n",
        "\n"
      ]
    },
    {
      "cell_type": "markdown",
      "metadata": {
        "id": "htk06OJkhs4V"
      },
      "source": [
        "# Regresión múltiple"
      ]
    },
    {
      "cell_type": "code",
      "metadata": {
        "id": "QC9tF2oJBP_g",
        "colab": {
          "base_uri": "https://localhost:8080/"
        },
        "outputId": "29203e15-0df8-42c0-faef-56aa991084b9"
      },
      "source": [
        "X = data.iloc[:, [2,10]].values #\n",
        "X"
      ],
      "execution_count": 113,
      "outputs": [
        {
          "output_type": "execute_result",
          "data": {
            "text/plain": [
              "array([[9839.64,    0.  ],\n",
              "       [1864.28,    0.  ],\n",
              "       [ 181.  ,    0.  ],\n",
              "       ...,\n",
              "       [4541.85,    0.  ],\n",
              "       [ 525.89,    0.  ],\n",
              "       [ 353.62,    0.  ]])"
            ]
          },
          "metadata": {
            "tags": []
          },
          "execution_count": 113
        }
      ]
    },
    {
      "cell_type": "code",
      "metadata": {
        "id": "yVCAfEErB2gE",
        "colab": {
          "base_uri": "https://localhost:8080/"
        },
        "outputId": "03be1a73-8f42-4569-ae37-49e54d387038"
      },
      "source": [
        "y = data.iloc[:, [9]].values\n",
        "y"
      ],
      "execution_count": 114,
      "outputs": [
        {
          "output_type": "execute_result",
          "data": {
            "text/plain": [
              "array([[0],\n",
              "       [0],\n",
              "       [1],\n",
              "       ...,\n",
              "       [0],\n",
              "       [0],\n",
              "       [0]])"
            ]
          },
          "metadata": {
            "tags": []
          },
          "execution_count": 114
        }
      ]
    },
    {
      "cell_type": "code",
      "metadata": {
        "id": "yS_EsicBCWly"
      },
      "source": [
        "from sklearn.model_selection import train_test_split\n",
        "X_train, X_test, y_train, y_test = train_test_split(X, y, test_size=0.30)"
      ],
      "execution_count": 115,
      "outputs": []
    },
    {
      "cell_type": "code",
      "metadata": {
        "id": "EVlsqUnmCdsP",
        "colab": {
          "base_uri": "https://localhost:8080/"
        },
        "outputId": "6b0bc91b-d1b9-45d0-d7a7-057f46ab9ba9"
      },
      "source": [
        "print(len(X_train))\n",
        "print(len(X_test))\n",
        "print(len(y_train))\n",
        "print(len(y_test))\n"
      ],
      "execution_count": 116,
      "outputs": [
        {
          "output_type": "stream",
          "text": [
            "1894\n",
            "813\n",
            "1894\n",
            "813\n"
          ],
          "name": "stdout"
        }
      ]
    },
    {
      "cell_type": "code",
      "metadata": {
        "id": "kUqQcrduChu-"
      },
      "source": [
        "from sklearn.preprocessing import StandardScaler\n",
        "sc = StandardScaler()\n",
        "X_train = sc.fit_transform(X_train)\n",
        "X_test = sc.transform(X_test)"
      ],
      "execution_count": 117,
      "outputs": []
    },
    {
      "cell_type": "code",
      "metadata": {
        "id": "biivJz3LCljf"
      },
      "source": [
        "multiple_regression = LinearRegression()\n"
      ],
      "execution_count": 118,
      "outputs": []
    },
    {
      "cell_type": "code",
      "metadata": {
        "id": "tBx5Q_A3eIi1",
        "colab": {
          "base_uri": "https://localhost:8080/"
        },
        "outputId": "efd88b37-928c-4186-dbf9-9d376f83a759"
      },
      "source": [
        "multiple_regression.fit(X_train, y_train)"
      ],
      "execution_count": 119,
      "outputs": [
        {
          "output_type": "execute_result",
          "data": {
            "text/plain": [
              "LinearRegression(copy_X=True, fit_intercept=True, n_jobs=None, normalize=False)"
            ]
          },
          "metadata": {
            "tags": []
          },
          "execution_count": 119
        }
      ]
    },
    {
      "cell_type": "code",
      "metadata": {
        "id": "VSd5zXbtC4Dd"
      },
      "source": [
        "y_hatm = multiple_regression.predict(X_test)"
      ],
      "execution_count": 120,
      "outputs": []
    },
    {
      "cell_type": "code",
      "metadata": {
        "id": "d--0io-sC6la",
        "colab": {
          "base_uri": "https://localhost:8080/"
        },
        "outputId": "63764213-93de-4046-e4b3-0fba8db910d3"
      },
      "source": [
        "error_m = mean_squared_error(y_test, y_hatm)\n",
        "error_m"
      ],
      "execution_count": 121,
      "outputs": [
        {
          "output_type": "execute_result",
          "data": {
            "text/plain": [
              "0.0037359590562938117"
            ]
          },
          "metadata": {
            "tags": []
          },
          "execution_count": 121
        }
      ]
    },
    {
      "cell_type": "markdown",
      "metadata": {
        "id": "vXFv0RMN_2PN"
      },
      "source": [
        "Predicciones de prueba:"
      ]
    },
    {
      "cell_type": "markdown",
      "metadata": {
        "id": "LRQh-kxUABdl"
      },
      "source": [
        "**Referencia:**\n",
        "https://www.kaggle.com/ntnu-testimon/paysim1"
      ]
    },
    {
      "cell_type": "markdown",
      "metadata": {
        "id": "2gZgchjuwP3E"
      },
      "source": [
        "\n",
        "---\n",
        "\n"
      ]
    }
  ]
}